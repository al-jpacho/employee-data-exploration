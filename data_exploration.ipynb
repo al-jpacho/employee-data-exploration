{
 "cells": [
  {
   "cell_type": "markdown",
   "id": "aaf4b3e0",
   "metadata": {},
   "source": [
    "# Employee Data Exploration\n",
    "\n",
    "This project explores a dummy employee dataset using **pandas**.  \n",
    "It demonstrates basic data exploration, filtering, aggregation, and cleaning — \n",
    "common steps in a data engineering workflow.\n",
    "\n",
    "## Dataset\n",
    "The dataset contains:\n",
    "- Employee ID\n",
    "- Name\n",
    "- Department\n",
    "- Age\n",
    "- Salary\n",
    "- Years at company\n",
    "- Remote (True/False)\n"
   ]
  },
  {
   "cell_type": "markdown",
   "id": "1196fc35",
   "metadata": {},
   "source": [
    "## Employee Data Exploration – Questions\n",
    "\n",
    "Use **pandas** to answer the following questions about the dataset.\n",
    "\n",
    "---\n",
    "\n",
    "### 1. Inspecting the Data\n",
    "- How many rows and columns are in the dataset?  \n",
    "- What are the column names and data types?  \n",
    "- Show the first 5 rows of the dataset.  \n",
    "\n",
    "---\n",
    "\n",
    "### 2. Selection & Filtering\n",
    "- Select only the `name` and `salary` columns.  \n",
    "- Show all employees in the **IT** department.  \n",
    "- Find employees who are older than 40.  \n",
    "- Show employees in **Finance** who also work remotely.  \n",
    "\n",
    "---\n",
    "\n",
    "### 3. Aggregations\n",
    "- What is the **average salary** across the company?  \n",
    "- What is the **average age per department**?  \n",
    "- Which department has the **highest total salary**?  \n",
    "- What is the **maximum years at company**? Who is that employee?  \n",
    "\n",
    "---\n",
    "\n",
    "### 4. Data Cleaning / Checks\n",
    "- Are there any missing values in the dataset?  \n",
    "- How many employees work **remotely**?  \n",
    "- What percentage of employees are remote vs in-office?  \n",
    "\n",
    "---\n",
    "\n",
    "### 5. Mini Challenges\n",
    "- Create a new column called `salary_per_year` = `salary / years_at_company`.  \n",
    "- Sort employees by `salary_per_year` (highest to lowest).  \n",
    "- Save the sorted results to a new CSV file in the `data/` folder.  \n",
    "\n",
    "---\n",
    "\n",
    "✅ *Tip: Think about how each question connects to SQL operations you already know (SELECT, WHERE, GROUP BY, etc.)*\n"
   ]
  },
  {
   "cell_type": "code",
   "execution_count": 4,
   "id": "22cdb0a1",
   "metadata": {},
   "outputs": [],
   "source": [
    "import pandas as pd"
   ]
  },
  {
   "cell_type": "code",
   "execution_count": 5,
   "id": "31233b3e",
   "metadata": {},
   "outputs": [],
   "source": [
    "import sys"
   ]
  },
  {
   "cell_type": "code",
   "execution_count": 6,
   "id": "aaffb41b",
   "metadata": {},
   "outputs": [],
   "source": [
    "df = pd.read_csv('dummy_employees.csv')"
   ]
  },
  {
   "cell_type": "code",
   "execution_count": 7,
   "id": "c2246857",
   "metadata": {},
   "outputs": [
    {
     "data": {
      "text/plain": [
       "pandas.core.frame.DataFrame"
      ]
     },
     "execution_count": 7,
     "metadata": {},
     "output_type": "execute_result"
    }
   ],
   "source": [
    "type(df)"
   ]
  }
 ],
 "metadata": {
  "kernelspec": {
   "display_name": ".venv",
   "language": "python",
   "name": "python3"
  },
  "language_info": {
   "codemirror_mode": {
    "name": "ipython",
    "version": 3
   },
   "file_extension": ".py",
   "mimetype": "text/x-python",
   "name": "python",
   "nbconvert_exporter": "python",
   "pygments_lexer": "ipython3",
   "version": "3.13.5"
  }
 },
 "nbformat": 4,
 "nbformat_minor": 5
}
